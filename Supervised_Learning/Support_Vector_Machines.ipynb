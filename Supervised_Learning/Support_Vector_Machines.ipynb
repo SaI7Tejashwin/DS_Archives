{
 "cells": [
  {
   "cell_type": "code",
   "execution_count": 1,
   "metadata": {},
   "outputs": [],
   "source": [
    "import numpy as np\n",
    "import pandas as pd\n",
    "import matplotlib.pyplot as plt"
   ]
  },
  {
   "cell_type": "markdown",
   "metadata": {},
   "source": [
    "Support Vector Machines"
   ]
  },
  {
   "cell_type": "code",
   "execution_count": 2,
   "metadata": {},
   "outputs": [],
   "source": [
    "from sklearn import datasets\n",
    "digits = datasets.load_digits()"
   ]
  },
  {
   "cell_type": "code",
   "execution_count": 3,
   "metadata": {},
   "outputs": [],
   "source": [
    "X = pd.DataFrame(digits.data, columns = digits.feature_names)\n",
    "y = pd.DataFrame(digits.target, columns = ['Target'])"
   ]
  },
  {
   "cell_type": "code",
   "execution_count": 4,
   "metadata": {},
   "outputs": [],
   "source": [
    "from sklearn.model_selection import train_test_split\n",
    "x_train, x_test, y_train, y_test = train_test_split(X, y, test_size=0.2, random_state=42)"
   ]
  },
  {
   "cell_type": "code",
   "execution_count": 5,
   "metadata": {},
   "outputs": [
    {
     "data": {
      "image/png": "[encoded data removed]",
      "text/plain": [
       "<Figure size 216x216 with 1 Axes>"
      ]
     },
     "metadata": {
      "needs_background": "light"
     },
     "output_type": "display_data"
    }
   ],
   "source": [
    "plt.figure(1, figsize=(3, 3))\n",
    "plt.imshow(digits.images[5], cmap=plt.cm.gray_r, interpolation=\"nearest\")\n",
    "plt.show()"
   ]
  },
  {
   "cell_type": "code",
   "execution_count": 6,
   "metadata": {},
   "outputs": [
    {
     "data": {
      "text/plain": [
       "SVC(random_state=101)"
      ]
     },
     "execution_count": 6,
     "metadata": {},
     "output_type": "execute_result"
    }
   ],
   "source": [
    "from sklearn.svm import SVC\n",
    "model = SVC(random_state=101)\n",
    "model.fit(x_train, y_train.to_numpy().ravel())"
   ]
  },
  {
   "cell_type": "code",
   "execution_count": 7,
   "metadata": {},
   "outputs": [
    {
     "data": {
      "text/plain": [
       "0.9861111111111112"
      ]
     },
     "execution_count": 7,
     "metadata": {},
     "output_type": "execute_result"
    }
   ],
   "source": [
    "model.score(x_test, y_test.to_numpy().ravel())"
   ]
  },
  {
   "cell_type": "code",
   "execution_count": 12,
   "metadata": {},
   "outputs": [],
   "source": [
    "grid ={\n",
    "    'C' : [0.01, 0.1, 1, 10],\n",
    "    'kernel' : ['linear', 'poly', 'rbf', 'sigmoid'],\n",
    "    'degree' : [1, 3, 5, 7],\n",
    "    'gamma' : [0.01, 1]\n",
    "}\n",
    "svm = SVC()"
   ]
  },
  {
   "cell_type": "code",
   "execution_count": 13,
   "metadata": {},
   "outputs": [
    {
     "data": {
      "text/plain": [
       "GridSearchCV(cv=5, estimator=SVC(),\n",
       "             param_grid={'C': [0.01, 0.1, 1, 10], 'degree': [1, 3, 5, 7],\n",
       "                         'gamma': [0.01, 1],\n",
       "                         'kernel': ['linear', 'poly', 'rbf', 'sigmoid']})"
      ]
     },
     "execution_count": 13,
     "metadata": {},
     "output_type": "execute_result"
    }
   ],
   "source": [
    "from sklearn.model_selection import GridSearchCV\n",
    "svm_cv = GridSearchCV(svm, grid, cv=5)\n",
    "svm_cv.fit(x_train, y_train.to_numpy().ravel())"
   ]
  },
  {
   "cell_type": "code",
   "execution_count": 19,
   "metadata": {},
   "outputs": [
    {
     "name": "stdout",
     "output_type": "stream",
     "text": [
      "best parameters:  {'C': 0.01, 'degree': 3, 'gamma': 0.01, 'kernel': 'poly'}\n",
      "best score:  0.9888695315524585\n"
     ]
    }
   ],
   "source": [
    "print(\"best parameters: \", svm_cv.best_params_)\n",
    "print(\"best score: \", svm_cv.best_score_)"
   ]
  },
  {
   "cell_type": "code",
   "execution_count": 23,
   "metadata": {},
   "outputs": [
    {
     "data": {
      "text/html": [
       "<div>\n",
       "<style scoped>\n",
       "    .dataframe tbody tr th:only-of-type {\n",
       "        vertical-align: middle;\n",
       "    }\n",
       "\n",
       "    .dataframe tbody tr th {\n",
       "        vertical-align: top;\n",
       "    }\n",
       "\n",
       "    .dataframe thead th {\n",
       "        text-align: right;\n",
       "    }\n",
       "</style>\n",
       "<table border=\"1\" class=\"dataframe\">\n",
       "  <thead>\n",
       "    <tr style=\"text-align: right;\">\n",
       "      <th></th>\n",
       "      <th>mean_fit_time</th>\n",
       "      <th>std_fit_time</th>\n",
       "      <th>mean_score_time</th>\n",
       "      <th>std_score_time</th>\n",
       "      <th>param_C</th>\n",
       "      <th>param_degree</th>\n",
       "      <th>param_gamma</th>\n",
       "      <th>param_kernel</th>\n",
       "      <th>params</th>\n",
       "      <th>split0_test_score</th>\n",
       "      <th>split1_test_score</th>\n",
       "      <th>split2_test_score</th>\n",
       "      <th>split3_test_score</th>\n",
       "      <th>split4_test_score</th>\n",
       "      <th>mean_test_score</th>\n",
       "      <th>std_test_score</th>\n",
       "      <th>rank_test_score</th>\n",
       "    </tr>\n",
       "  </thead>\n",
       "  <tbody>\n",
       "    <tr>\n",
       "      <th>13</th>\n",
       "      <td>0.038575</td>\n",
       "      <td>0.001349</td>\n",
       "      <td>0.011530</td>\n",
       "      <td>0.000247</td>\n",
       "      <td>0.01</td>\n",
       "      <td>3</td>\n",
       "      <td>1</td>\n",
       "      <td>poly</td>\n",
       "      <td>{'C': 0.01, 'degree': 3, 'gamma': 1, 'kernel':...</td>\n",
       "      <td>0.986111</td>\n",
       "      <td>0.986111</td>\n",
       "      <td>0.986063</td>\n",
       "      <td>0.993031</td>\n",
       "      <td>0.993031</td>\n",
       "      <td>0.988870</td>\n",
       "      <td>0.003398</td>\n",
       "      <td>1</td>\n",
       "    </tr>\n",
       "    <tr>\n",
       "      <th>45</th>\n",
       "      <td>0.038238</td>\n",
       "      <td>0.001752</td>\n",
       "      <td>0.011791</td>\n",
       "      <td>0.000744</td>\n",
       "      <td>0.1</td>\n",
       "      <td>3</td>\n",
       "      <td>1</td>\n",
       "      <td>poly</td>\n",
       "      <td>{'C': 0.1, 'degree': 3, 'gamma': 1, 'kernel': ...</td>\n",
       "      <td>0.986111</td>\n",
       "      <td>0.986111</td>\n",
       "      <td>0.986063</td>\n",
       "      <td>0.993031</td>\n",
       "      <td>0.993031</td>\n",
       "      <td>0.988870</td>\n",
       "      <td>0.003398</td>\n",
       "      <td>1</td>\n",
       "    </tr>\n",
       "    <tr>\n",
       "      <th>41</th>\n",
       "      <td>0.037143</td>\n",
       "      <td>0.000728</td>\n",
       "      <td>0.012211</td>\n",
       "      <td>0.000913</td>\n",
       "      <td>0.1</td>\n",
       "      <td>3</td>\n",
       "      <td>0.01</td>\n",
       "      <td>poly</td>\n",
       "      <td>{'C': 0.1, 'degree': 3, 'gamma': 0.01, 'kernel...</td>\n",
       "      <td>0.986111</td>\n",
       "      <td>0.986111</td>\n",
       "      <td>0.986063</td>\n",
       "      <td>0.993031</td>\n",
       "      <td>0.993031</td>\n",
       "      <td>0.988870</td>\n",
       "      <td>0.003398</td>\n",
       "      <td>1</td>\n",
       "    </tr>\n",
       "    <tr>\n",
       "      <th>77</th>\n",
       "      <td>0.037855</td>\n",
       "      <td>0.001732</td>\n",
       "      <td>0.011318</td>\n",
       "      <td>0.000555</td>\n",
       "      <td>1</td>\n",
       "      <td>3</td>\n",
       "      <td>1</td>\n",
       "      <td>poly</td>\n",
       "      <td>{'C': 1, 'degree': 3, 'gamma': 1, 'kernel': 'p...</td>\n",
       "      <td>0.986111</td>\n",
       "      <td>0.986111</td>\n",
       "      <td>0.986063</td>\n",
       "      <td>0.993031</td>\n",
       "      <td>0.993031</td>\n",
       "      <td>0.988870</td>\n",
       "      <td>0.003398</td>\n",
       "      <td>1</td>\n",
       "    </tr>\n",
       "    <tr>\n",
       "      <th>73</th>\n",
       "      <td>0.037382</td>\n",
       "      <td>0.000600</td>\n",
       "      <td>0.011462</td>\n",
       "      <td>0.000729</td>\n",
       "      <td>1</td>\n",
       "      <td>3</td>\n",
       "      <td>0.01</td>\n",
       "      <td>poly</td>\n",
       "      <td>{'C': 1, 'degree': 3, 'gamma': 0.01, 'kernel':...</td>\n",
       "      <td>0.986111</td>\n",
       "      <td>0.986111</td>\n",
       "      <td>0.986063</td>\n",
       "      <td>0.993031</td>\n",
       "      <td>0.993031</td>\n",
       "      <td>0.988870</td>\n",
       "      <td>0.003398</td>\n",
       "      <td>1</td>\n",
       "    </tr>\n",
       "    <tr>\n",
       "      <th>...</th>\n",
       "      <td>...</td>\n",
       "      <td>...</td>\n",
       "      <td>...</td>\n",
       "      <td>...</td>\n",
       "      <td>...</td>\n",
       "      <td>...</td>\n",
       "      <td>...</td>\n",
       "      <td>...</td>\n",
       "      <td>...</td>\n",
       "      <td>...</td>\n",
       "      <td>...</td>\n",
       "      <td>...</td>\n",
       "      <td>...</td>\n",
       "      <td>...</td>\n",
       "      <td>...</td>\n",
       "      <td>...</td>\n",
       "      <td>...</td>\n",
       "    </tr>\n",
       "    <tr>\n",
       "      <th>91</th>\n",
       "      <td>0.194905</td>\n",
       "      <td>0.002640</td>\n",
       "      <td>0.033554</td>\n",
       "      <td>0.001660</td>\n",
       "      <td>1</td>\n",
       "      <td>7</td>\n",
       "      <td>0.01</td>\n",
       "      <td>sigmoid</td>\n",
       "      <td>{'C': 1, 'degree': 7, 'gamma': 0.01, 'kernel':...</td>\n",
       "      <td>0.107639</td>\n",
       "      <td>0.107639</td>\n",
       "      <td>0.108014</td>\n",
       "      <td>0.108014</td>\n",
       "      <td>0.104530</td>\n",
       "      <td>0.107167</td>\n",
       "      <td>0.001329</td>\n",
       "      <td>73</td>\n",
       "    </tr>\n",
       "    <tr>\n",
       "      <th>54</th>\n",
       "      <td>0.257522</td>\n",
       "      <td>0.017743</td>\n",
       "      <td>0.052129</td>\n",
       "      <td>0.000494</td>\n",
       "      <td>0.1</td>\n",
       "      <td>5</td>\n",
       "      <td>1</td>\n",
       "      <td>rbf</td>\n",
       "      <td>{'C': 0.1, 'degree': 5, 'gamma': 1, 'kernel': ...</td>\n",
       "      <td>0.107639</td>\n",
       "      <td>0.107639</td>\n",
       "      <td>0.108014</td>\n",
       "      <td>0.108014</td>\n",
       "      <td>0.104530</td>\n",
       "      <td>0.107167</td>\n",
       "      <td>0.001329</td>\n",
       "      <td>73</td>\n",
       "    </tr>\n",
       "    <tr>\n",
       "      <th>94</th>\n",
       "      <td>0.250589</td>\n",
       "      <td>0.002758</td>\n",
       "      <td>0.050789</td>\n",
       "      <td>0.000909</td>\n",
       "      <td>1</td>\n",
       "      <td>7</td>\n",
       "      <td>1</td>\n",
       "      <td>rbf</td>\n",
       "      <td>{'C': 1, 'degree': 7, 'gamma': 1, 'kernel': 'r...</td>\n",
       "      <td>0.107639</td>\n",
       "      <td>0.107639</td>\n",
       "      <td>0.108014</td>\n",
       "      <td>0.108014</td>\n",
       "      <td>0.104530</td>\n",
       "      <td>0.107167</td>\n",
       "      <td>0.001329</td>\n",
       "      <td>73</td>\n",
       "    </tr>\n",
       "    <tr>\n",
       "      <th>95</th>\n",
       "      <td>0.169043</td>\n",
       "      <td>0.001597</td>\n",
       "      <td>0.028384</td>\n",
       "      <td>0.001701</td>\n",
       "      <td>1</td>\n",
       "      <td>7</td>\n",
       "      <td>1</td>\n",
       "      <td>sigmoid</td>\n",
       "      <td>{'C': 1, 'degree': 7, 'gamma': 1, 'kernel': 's...</td>\n",
       "      <td>0.107639</td>\n",
       "      <td>0.107639</td>\n",
       "      <td>0.108014</td>\n",
       "      <td>0.108014</td>\n",
       "      <td>0.104530</td>\n",
       "      <td>0.107167</td>\n",
       "      <td>0.001329</td>\n",
       "      <td>73</td>\n",
       "    </tr>\n",
       "    <tr>\n",
       "      <th>127</th>\n",
       "      <td>0.169511</td>\n",
       "      <td>0.002388</td>\n",
       "      <td>0.026816</td>\n",
       "      <td>0.001222</td>\n",
       "      <td>10</td>\n",
       "      <td>7</td>\n",
       "      <td>1</td>\n",
       "      <td>sigmoid</td>\n",
       "      <td>{'C': 10, 'degree': 7, 'gamma': 1, 'kernel': '...</td>\n",
       "      <td>0.107639</td>\n",
       "      <td>0.107639</td>\n",
       "      <td>0.108014</td>\n",
       "      <td>0.108014</td>\n",
       "      <td>0.104530</td>\n",
       "      <td>0.107167</td>\n",
       "      <td>0.001329</td>\n",
       "      <td>73</td>\n",
       "    </tr>\n",
       "  </tbody>\n",
       "</table>\n",
       "<p>128 rows × 17 columns</p>\n",
       "</div>"
      ],
      "text/plain": [
       "     mean_fit_time  std_fit_time  mean_score_time  std_score_time param_C  \\\n",
       "13        0.038575      0.001349         0.011530        0.000247    0.01   \n",
       "45        0.038238      0.001752         0.011791        0.000744     0.1   \n",
       "41        0.037143      0.000728         0.012211        0.000913     0.1   \n",
       "77        0.037855      0.001732         0.011318        0.000555       1   \n",
       "73        0.037382      0.000600         0.011462        0.000729       1   \n",
       "..             ...           ...              ...             ...     ...   \n",
       "91        0.194905      0.002640         0.033554        0.001660       1   \n",
       "54        0.257522      0.017743         0.052129        0.000494     0.1   \n",
       "94        0.250589      0.002758         0.050789        0.000909       1   \n",
       "95        0.169043      0.001597         0.028384        0.001701       1   \n",
       "127       0.169511      0.002388         0.026816        0.001222      10   \n",
       "\n",
       "    param_degree param_gamma param_kernel  \\\n",
       "13             3           1         poly   \n",
       "45             3           1         poly   \n",
       "41             3        0.01         poly   \n",
       "77             3           1         poly   \n",
       "73             3        0.01         poly   \n",
       "..           ...         ...          ...   \n",
       "91             7        0.01      sigmoid   \n",
       "54             5           1          rbf   \n",
       "94             7           1          rbf   \n",
       "95             7           1      sigmoid   \n",
       "127            7           1      sigmoid   \n",
       "\n",
       "                                                params  split0_test_score  \\\n",
       "13   {'C': 0.01, 'degree': 3, 'gamma': 1, 'kernel':...           0.986111   \n",
       "45   {'C': 0.1, 'degree': 3, 'gamma': 1, 'kernel': ...           0.986111   \n",
       "41   {'C': 0.1, 'degree': 3, 'gamma': 0.01, 'kernel...           0.986111   \n",
       "77   {'C': 1, 'degree': 3, 'gamma': 1, 'kernel': 'p...           0.986111   \n",
       "73   {'C': 1, 'degree': 3, 'gamma': 0.01, 'kernel':...           0.986111   \n",
       "..                                                 ...                ...   \n",
       "91   {'C': 1, 'degree': 7, 'gamma': 0.01, 'kernel':...           0.107639   \n",
       "54   {'C': 0.1, 'degree': 5, 'gamma': 1, 'kernel': ...           0.107639   \n",
       "94   {'C': 1, 'degree': 7, 'gamma': 1, 'kernel': 'r...           0.107639   \n",
       "95   {'C': 1, 'degree': 7, 'gamma': 1, 'kernel': 's...           0.107639   \n",
       "127  {'C': 10, 'degree': 7, 'gamma': 1, 'kernel': '...           0.107639   \n",
       "\n",
       "     split1_test_score  split2_test_score  split3_test_score  \\\n",
       "13            0.986111           0.986063           0.993031   \n",
       "45            0.986111           0.986063           0.993031   \n",
       "41            0.986111           0.986063           0.993031   \n",
       "77            0.986111           0.986063           0.993031   \n",
       "73            0.986111           0.986063           0.993031   \n",
       "..                 ...                ...                ...   \n",
       "91            0.107639           0.108014           0.108014   \n",
       "54            0.107639           0.108014           0.108014   \n",
       "94            0.107639           0.108014           0.108014   \n",
       "95            0.107639           0.108014           0.108014   \n",
       "127           0.107639           0.108014           0.108014   \n",
       "\n",
       "     split4_test_score  mean_test_score  std_test_score  rank_test_score  \n",
       "13            0.993031         0.988870        0.003398                1  \n",
       "45            0.993031         0.988870        0.003398                1  \n",
       "41            0.993031         0.988870        0.003398                1  \n",
       "77            0.993031         0.988870        0.003398                1  \n",
       "73            0.993031         0.988870        0.003398                1  \n",
       "..                 ...              ...             ...              ...  \n",
       "91            0.104530         0.107167        0.001329               73  \n",
       "54            0.104530         0.107167        0.001329               73  \n",
       "94            0.104530         0.107167        0.001329               73  \n",
       "95            0.104530         0.107167        0.001329               73  \n",
       "127           0.104530         0.107167        0.001329               73  \n",
       "\n",
       "[128 rows x 17 columns]"
      ]
     },
     "execution_count": 23,
     "metadata": {},
     "output_type": "execute_result"
    }
   ],
   "source": [
    "results = pd.DataFrame(svm_cv.cv_results_)\n",
    "results.sort_values(by = ['mean_test_score'], ascending=False)"
   ]
  },
  {
   "cell_type": "code",
   "execution_count": null,
   "metadata": {},
   "outputs": [],
   "source": []
  }
 ],
 "metadata": {
  "interpreter": {
   "hash": "7cddee300299de2595fef0ea7bf2e5765c444097ae963129bd03f3eefb6076e7"
  },
  "kernelspec": {
   "display_name": "Python 3.9.7 64-bit ('base': conda)",
   "language": "python",
   "name": "python3"
  },
  "language_info": {
   "codemirror_mode": {
    "name": "ipython",
    "version": 3
   },
   "file_extension": ".py",
   "mimetype": "text/x-python",
   "name": "python",
   "nbconvert_exporter": "python",
   "pygments_lexer": "ipython3",
   "version": "3.9.7"
  },
  "orig_nbformat": 4
 },
 "nbformat": 4,
 "nbformat_minor": 2
}
